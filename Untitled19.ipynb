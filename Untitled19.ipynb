{
  "nbformat": 4,
  "nbformat_minor": 0,
  "metadata": {
    "colab": {
      "provenance": [],
      "authorship_tag": "ABX9TyNM768dyCiNM3uJNfCepp+1",
      "include_colab_link": true
    },
    "kernelspec": {
      "name": "python3",
      "display_name": "Python 3"
    },
    "language_info": {
      "name": "python"
    }
  },
  "cells": [
    {
      "cell_type": "markdown",
      "metadata": {
        "id": "view-in-github",
        "colab_type": "text"
      },
      "source": [
        "<a href=\"https://colab.research.google.com/github/zulfaanggi/prakalgo/blob/main/Untitled19.ipynb\" target=\"_parent\"><img src=\"https://colab.research.google.com/assets/colab-badge.svg\" alt=\"Open In Colab\"/></a>"
      ]
    },
    {
      "cell_type": "code",
      "source": [
        "print(\"    @@      @@   @   @@@@@@   @@@@@@   @\")\n",
        "print(\"   @  @     @ @  @   @        @        @\")\n",
        "print(\"  @@@@@@    @  @ @   @  @@@   @  @@@   @\")\n",
        "print(\" @      @   @   @@   @    @   @    @   @\")\n",
        "print(\"@        @  @    @   @@@@@@   @@@@@@   @\")\n",
        "def linear_search(data, target):\n",
        "    for i in range(len(data)):\n",
        "        if data[i] == target:\n",
        "            return i\n",
        "    return -1\n",
        "\n",
        "def selection():\n",
        "    list_data = []\n",
        "    minta = int(input('Berapa kali maunya? '))\n",
        "\n",
        "    for i in range(minta):\n",
        "        i += 1\n",
        "        list_data.append(int(input(f'Masukan angka ke {i}: ')))\n",
        "\n",
        "    print(f'List: {list_data}')\n",
        "\n",
        "    for i in range(0, len(list_data)-1):\n",
        "        p = i\n",
        "        for j in range(i+1, len(list_data)):\n",
        "            if list_data[j] < list_data[p]:\n",
        "                p = j\n",
        "        list_data[i], list_data[p] = list_data[p], list_data[i]\n",
        "\n",
        "    print(f'List setelah Selection Sort: {list_data}')\n",
        "\n",
        "    target = int(input('Masukkan angka yang dicari: '))\n",
        "\n",
        "    result = linear_search(list_data, target)\n",
        "\n",
        "    if result != -1:\n",
        "        print(f'Angka {target} ditemukan')\n",
        "    else:\n",
        "        print(f'Angka {target} tidak ditemukan dalam list.')\n",
        "\n",
        "if __name__ == '__main__':\n",
        "    selection()\n",
        "\n"
      ],
      "metadata": {
        "colab": {
          "base_uri": "https://localhost:8080/"
        },
        "id": "cZLZjOilTiNF",
        "outputId": "b397b496-d4e9-43da-ead1-b88d717f8d70"
      },
      "execution_count": null,
      "outputs": [
        {
          "output_type": "stream",
          "name": "stdout",
          "text": [
            "    @@      @@   @   @@@@@@   @@@@@@   @\n",
            "   @  @     @ @  @   @        @        @\n",
            "  @@@@@@    @  @ @   @  @@@   @  @@@   @\n",
            " @      @   @   @@   @    @   @    @   @\n",
            "@        @  @    @   @@@@@@   @@@@@@   @\n",
            "Berapa kali maunya? 5\n",
            "Masukan angka ke 1: 3\n",
            "Masukan angka ke 2: 8\n",
            "Masukan angka ke 3: 12\n",
            "Masukan angka ke 4: 5\n",
            "Masukan angka ke 5: 44\n",
            "List: [3, 8, 12, 5, 44]\n",
            "List setelah Selection Sort: [3, 5, 8, 12, 44]\n",
            "Masukkan angka yang dicari: 43\n",
            "Angka 43 tidak ditemukan dalam list.\n"
          ]
        }
      ]
    },
    {
      "cell_type": "code",
      "source": [
        "print(\"    @@      @@   @   @@@@@@   @@@@@@   @\")\n",
        "print(\"   @  @     @ @  @   @        @        @\")\n",
        "print(\"  @@@@@@    @  @ @   @  @@@   @  @@@   @\")\n",
        "print(\" @      @   @   @@   @    @   @    @   @\")\n",
        "print(\"@        @  @    @   @@@@@@   @@@@@@   @\")\n",
        "def Binary_search(num,nilai_dicari,kiri,kanan):\n",
        "    while kiri <= kanan:\n",
        "        mid = (kiri + kanan)//2\n",
        "        if nilai_dicari == num[mid]:\n",
        "            return mid\n",
        "        elif nilai_dicari > num[mid]:\n",
        "            kiri = mid + 1\n",
        "        else:\n",
        "            kanan = mid - 1\n",
        "    return -1\n",
        "num =[]\n",
        "minta=int(input('berapa rangenya? '))\n",
        "for i in range(minta):\n",
        "    i+=1\n",
        "    num.append(int(input(f'masukan angka ke {i}:')))\n",
        "print(num)\n",
        "nilai_dicari = int(input('angka berapa?'))\n",
        "hasil = Binary_search(num,nilai_dicari,0,len(num)-1)\n",
        "if hasil != -1:\n",
        "    print(\"Angka ditemukan pada index ke \" + str(hasil))\n",
        "else:\n",
        "    print(\"Angka tidak ditemukan\")\n"
      ],
      "metadata": {
        "colab": {
          "base_uri": "https://localhost:8080/"
        },
        "id": "Xdpcm0n4Zd2f",
        "outputId": "5e374e88-4f31-4ef7-e27c-c41d38d6f055"
      },
      "execution_count": null,
      "outputs": [
        {
          "output_type": "stream",
          "name": "stdout",
          "text": [
            "    @@      @@   @   @@@@@@   @@@@@@   @\n",
            "   @  @     @ @  @   @        @        @\n",
            "  @@@@@@    @  @ @   @  @@@   @  @@@   @\n",
            " @      @   @   @@   @    @   @    @   @\n",
            "@        @  @    @   @@@@@@   @@@@@@   @\n",
            "berapa rangenya? 4\n",
            "masukan angka ke 1:3\n",
            "masukan angka ke 2:7\n",
            "masukan angka ke 3:11\n",
            "masukan angka ke 4:2\n",
            "[3, 7, 11, 2]\n",
            "angka berapa?8\n",
            "Angka tidak ditemukan\n"
          ]
        }
      ]
    },
    {
      "cell_type": "code",
      "source": [
        "print(\"    @@      @@   @   @@@@@@   @@@@@@   @\")\n",
        "print(\"   @  @     @ @  @   @        @        @\")\n",
        "print(\"  @@@@@@    @  @ @   @  @@@   @  @@@   @\")\n",
        "print(\" @      @   @   @@   @    @   @    @   @\")\n",
        "print(\"@        @  @    @   @@@@@@   @@@@@@   @\")\n",
        "def bubble_sorted():\n",
        "    list=[]\n",
        "    minta=int(input('berapa rangenya? '))\n",
        "    for i in range(minta):\n",
        "        i+=1\n",
        "        list.append(int(input(f'masukan angka ke {i}:')))\n",
        "    print('list normalnya:',list)\n",
        "    for i in range(len(list)-1):\n",
        "        for j in range(len(list)-1-i):\n",
        "            if list[j]>list[j+1]:\n",
        "                list[j],list[j+1] = list[j+1],list[j]\n",
        "    print(f'Hasil Bubble Sort = {list}')\n",
        "bubble_sorted()"
      ],
      "metadata": {
        "id": "dfdvs88wcaJk",
        "colab": {
          "base_uri": "https://localhost:8080/"
        },
        "outputId": "74395edd-2371-4515-eb53-283bab1c964f"
      },
      "execution_count": 1,
      "outputs": [
        {
          "output_type": "stream",
          "name": "stdout",
          "text": [
            "    @@      @@   @   @@@@@@   @@@@@@   @\n",
            "   @  @     @ @  @   @        @        @\n",
            "  @@@@@@    @  @ @   @  @@@   @  @@@   @\n",
            " @      @   @   @@   @    @   @    @   @\n",
            "@        @  @    @   @@@@@@   @@@@@@   @\n",
            "berapa rangenya? 7\n",
            "masukan angka ke 1:33\n",
            "masukan angka ke 2:2\n",
            "masukan angka ke 3:60\n",
            "masukan angka ke 4:9\n",
            "masukan angka ke 5:1\n",
            "masukan angka ke 6:-7\n",
            "masukan angka ke 7:3\n",
            "list normalnya: [33, 2, 60, 9, 1, -7, 3]\n",
            "Hasil Bubble Sort = [-7, 1, 2, 3, 9, 33, 60]\n"
          ]
        }
      ]
    },
    {
      "cell_type": "code",
      "source": [
        "print(\"    @@      @@   @   @@@@@@   @@@@@@   @\")\n",
        "print(\"   @  @     @ @  @   @        @        @\")\n",
        "print(\"  @@@@@@    @  @ @   @  @@@   @  @@@   @\")\n",
        "print(\" @      @   @   @@   @    @   @    @   @\")\n",
        "print(\"@        @  @    @   @@@@@@   @@@@@@   @\")\n",
        "list=[]\n",
        "minta=int(input('berapa rangenya? '))\n",
        "for i in range(minta):\n",
        "    i+=1\n",
        "    list.append(int(input(f'masukan angka ke {i}:')))\n",
        "print(sorted(list))"
      ],
      "metadata": {
        "colab": {
          "base_uri": "https://localhost:8080/"
        },
        "id": "nBGOfN2yfBpK",
        "outputId": "a9418765-bab2-44f5-94ed-4b8ef48e1057"
      },
      "execution_count": 4,
      "outputs": [
        {
          "output_type": "stream",
          "name": "stdout",
          "text": [
            "    @@      @@   @   @@@@@@   @@@@@@   @\n",
            "   @  @     @ @  @   @        @        @\n",
            "  @@@@@@    @  @ @   @  @@@   @  @@@   @\n",
            " @      @   @   @@   @    @   @    @   @\n",
            "@        @  @    @   @@@@@@   @@@@@@   @\n",
            "berapa rangenya? 4\n",
            "masukan angka ke 1:22\n",
            "masukan angka ke 2:87\n",
            "masukan angka ke 3:54\n",
            "masukan angka ke 4:11\n",
            "[11, 22, 54, 87]\n"
          ]
        }
      ]
    }
  ]
}