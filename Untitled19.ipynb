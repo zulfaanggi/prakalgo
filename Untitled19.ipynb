{
  "nbformat": 4,
  "nbformat_minor": 0,
  "metadata": {
    "colab": {
      "provenance": [],
      "authorship_tag": "ABX9TyNMhFJwvH9zOPp7BlKkm+s/",
      "include_colab_link": true
    },
    "kernelspec": {
      "name": "python3",
      "display_name": "Python 3"
    },
    "language_info": {
      "name": "python"
    }
  },
  "cells": [
    {
      "cell_type": "markdown",
      "metadata": {
        "id": "view-in-github",
        "colab_type": "text"
      },
      "source": [
        "<a href=\"https://colab.research.google.com/github/zulfaanggi/prakalgo/blob/main/Untitled19.ipynb\" target=\"_parent\"><img src=\"https://colab.research.google.com/assets/colab-badge.svg\" alt=\"Open In Colab\"/></a>"
      ]
    },
    {
      "cell_type": "code",
      "execution_count": null,
      "metadata": {
        "id": "zzGBOcU1NRFK"
      },
      "outputs": [],
      "source": [
        "import sys\n",
        "\n",
        "file_name = input(\"Masukkan nama file: \")\n",
        "\n",
        "file = open(file_name, 'r')\n",
        "data = file.readlines()\n",
        "file.close()\n",
        "\n",
        "updates = []\n",
        "\n",
        "\n",
        "def baca_data():\n",
        "\tprint (\"Daftar Nama dan Nilai\")\n",
        "\tfor line in data:\n",
        "\t\tdataline = line.strip().split(' ')\n",
        "\t\tscore_1 = dataline[-3]\n",
        "\t\tscore_2 = dataline[-2]\n",
        "\t\tscore_3 = dataline[-1]\n",
        "\t\tnama = ' '.join(dataline[0:dataline.index(score_1)])\n",
        "\t\tprint(f\"{nama} = {score_1} {score_2} {score_3}\")\n",
        "\tmain()\n",
        "def nilai_rata_rata():\n",
        "\tinputnama = input(\"Masukkan nama mahasiswa: \")\n",
        "\tfor line in data:\n",
        "\t\tdataline = line.strip().split(' ')\n",
        "\t\tscore_1 = dataline[-3]\n",
        "\t\tscore_2 = dataline[-2]\n",
        "\t\tscore_3 = dataline[-1]\n",
        "\t\tnama = ' '.join(dataline[0:dataline.index(score_1)])\n",
        "\t\tif inputnama == nama:\n",
        "\t\t\trata_rata = (int(score_1) + int(score_2) + int(score_3)) / 3\n",
        "\t\t\tprint(score_1, score_2, score_3 + f\" (rata_rata: {rata_rata})\")\n",
        "\tmain()\n",
        "\n",
        "def ubah_nilai():\n",
        "\tprint (\"Update Nilai\")\n",
        "\tinputnama = input(\"Masukkan nama mahasiswa: \")\n",
        "\tnilaiKe = int(input(\"Update nilai praktikum ke-: \"))\n",
        "\tnilaiBaru = int(input(\"Masukkan nilai baru: \"))\n",
        "\tfor line in data:\n",
        "\t\tdataline = line.strip().split(' ')\n",
        "\t\tscore_1 = dataline[-3]\n",
        "\t\tscore_2 = dataline[-2]\n",
        "\t\tscore_3 = dataline[-1]\n",
        "\t\tnama = ' '.join(dataline[0:dataline.index(score_1)])\n",
        "\t\tif inputnama == nama:\n",
        "\t\t\ttempdata = [nama, int(score_1), int(score_2), int(score_3)]\n",
        "\t\t\tnilailama = tempdata[nilaiKe]\n",
        "\t\t\ttempdata[nilaiKe] = nilaiBaru\n",
        "\t\t\tdata[data.index(line)] = f\"{nama} {tempdata[1]} {tempdata[2]} {tempdata[3]}\\n\"\n",
        "\t\t\tprint(f\"Berhasil Diupdate!\")\n",
        "\t\t\tupdates.append(f\"[{nama}] Update nilai prak {nilaiKe} | {nilailama} >> {nilaiBaru}\")\n",
        "\tmain()\n",
        "def simpan_data():\n",
        "\tfile = open(file_name, 'w')\n",
        "\tfile.write(''.join(data))\n",
        "\tfile.close()\n",
        "\tprint(\"Perubahan berhasil disimpan.\")\n",
        "\tmain()\n",
        "def keluar():\n",
        "\tsys.exit(0)\n",
        "\n",
        "\n",
        "def main():\n",
        "\tprint(f\"\"\"\\t======{file_name}======\n",
        "\t 1. Baca Data\n",
        "\t 2. Mencari Rata-Rata Nilai Praktikum\n",
        "\t 3. Update Nilai Praktikum\n",
        "\t 4. Simpan Perubahan Nilai\n",
        "\t 5. Keluar\"\"\")\n",
        "\tmenu = int(input(\"Mau yang mana: \"))\n",
        "\tif menu == 1:\n",
        "\t\tbaca_data()\n",
        "\telif menu == 2:\n",
        "\t\tnilai_rata_rata()\n",
        "\telif menu == 3:\n",
        "\t\tubah_nilai()\n",
        "\telif menu == 4:\n",
        "\t\tsimpan_data()\n",
        "\telif menu == 5:\n",
        "\t\tkeluar()\n",
        "if __name__ == \"__main__\":\n",
        "\tmain()\n"
      ]
    }
  ]
}