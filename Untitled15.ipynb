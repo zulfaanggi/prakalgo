{
  "nbformat": 4,
  "nbformat_minor": 0,
  "metadata": {
    "colab": {
      "provenance": [],
      "authorship_tag": "ABX9TyMvoGfYxEREBoagwTKm1/qt",
      "include_colab_link": true
    },
    "kernelspec": {
      "name": "python3",
      "display_name": "Python 3"
    },
    "language_info": {
      "name": "python"
    }
  },
  "cells": [
    {
      "cell_type": "markdown",
      "metadata": {
        "id": "view-in-github",
        "colab_type": "text"
      },
      "source": [
        "<a href=\"https://colab.research.google.com/github/zulfaanggi/prakalgo/blob/main/Untitled15.ipynb\" target=\"_parent\"><img src=\"https://colab.research.google.com/assets/colab-badge.svg\" alt=\"Open In Colab\"/></a>"
      ]
    },
    {
      "cell_type": "code",
      "execution_count": 4,
      "metadata": {
        "colab": {
          "base_uri": "https://localhost:8080/"
        },
        "id": "2Qg_CERPD4Wp",
        "outputId": "3db7042a-45a4-4ba2-87e3-131f8b981e2f"
      },
      "outputs": [
        {
          "output_type": "stream",
          "name": "stdout",
          "text": [
            "    @@      @@   @   @@@@@@   @@@@@@   @\n",
            "   @  @     @ @  @   @        @        @\n",
            "  @@@@@@    @  @ @   @  @@@   @  @@@   @\n",
            " @      @   @   @@   @    @   @    @   @\n",
            "@        @  @    @   @@@@@@   @@@@@@   @\n",
            "List awal: [1, 2, 3, 4, 5]\n",
            "Setelah dikonversi menjadi tuple: (1, 2, 3, 4, 5)\n"
          ]
        }
      ],
      "source": [
        "print(\"    @@      @@   @   @@@@@@   @@@@@@   @\")\n",
        "print(\"   @  @     @ @  @   @        @        @\")\n",
        "print(\"  @@@@@@    @  @ @   @  @@@   @  @@@   @\")\n",
        "print(\" @      @   @   @@   @    @   @    @   @\")\n",
        "print(\"@        @  @    @   @@@@@@   @@@@@@   @\")\n",
        "def list_to_tuple(input_list):\n",
        "    return tuple(input_list)\n",
        "\n",
        "# Contoh list\n",
        "my_list = [1, 2, 3, 4, 5]\n",
        "\n",
        "# Konversi list menjadi tuple\n",
        "my_tuple = list_to_tuple(my_list)\n",
        "\n",
        "# Output hasil konversi\n",
        "print(\"List awal:\", my_list)\n",
        "print(\"Setelah dikonversi menjadi tuple:\", my_tuple)\n"
      ]
    },
    {
      "cell_type": "code",
      "source": [
        "a = ('1021, 1022, 1023', '1025, 1026, 1027', '1029, 1030, 1030')\n",
        "print(a)\n",
        "def ratarata(angka):\n",
        "    rata_rata = [int(x) for x in angka.split(', ')]\n",
        "    return int(sum(rata_rata) / len(rata_rata))\n",
        "\n",
        "averages = [ratarata(group) for group in a]\n",
        "print(\"rata rata dari tuple adalah : \")\n",
        "print(averages)\n",
        "print(\"===== zulfa satria ranggi =====\")\n",
        "print(\"===== 065002300031 =====\")"
      ],
      "metadata": {
        "colab": {
          "base_uri": "https://localhost:8080/"
        },
        "id": "cnKOtuUpOV4A",
        "outputId": "098ca656-5dca-4acb-f113-cc4790420d29"
      },
      "execution_count": 5,
      "outputs": [
        {
          "output_type": "stream",
          "name": "stdout",
          "text": [
            "('1021, 1022, 1023', '1025, 1026, 1027', '1029, 1030, 1030')\n",
            "rata rata dari tuple adalah : \n",
            "[1022, 1026, 1029]\n",
            "===== zulfa satria ranggi =====\n",
            "===== 065002300031 =====\n"
          ]
        }
      ]
    },
    {
      "cell_type": "code",
      "source": [
        "a = [1,2,4,3]\n",
        "\n",
        "print(a)\n",
        "\n",
        "hasil = 1\n",
        "\n",
        "for result in a:\n",
        "    hasil *= result\n",
        "\n",
        "\n",
        "print(hasil)"
      ],
      "metadata": {
        "colab": {
          "base_uri": "https://localhost:8080/"
        },
        "id": "K6AA0IU_URW7",
        "outputId": "8cc48f0c-6fc5-4285-90db-df0b1e7beca7"
      },
      "execution_count": 3,
      "outputs": [
        {
          "output_type": "stream",
          "name": "stdout",
          "text": [
            "[1, 2, 4, 3]\n",
            "24\n"
          ]
        }
      ]
    }
  ]
}