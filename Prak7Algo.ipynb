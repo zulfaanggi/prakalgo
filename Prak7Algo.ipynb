{
  "nbformat": 4,
  "nbformat_minor": 0,
  "metadata": {
    "colab": {
      "provenance": [],
      "authorship_tag": "ABX9TyOWj4pAUATwizeLIVgMhSHn",
      "include_colab_link": true
    },
    "kernelspec": {
      "name": "python3",
      "display_name": "Python 3"
    },
    "language_info": {
      "name": "python"
    }
  },
  "cells": [
    {
      "cell_type": "markdown",
      "metadata": {
        "id": "view-in-github",
        "colab_type": "text"
      },
      "source": [
        "<a href=\"https://colab.research.google.com/github/zulfaanggi/prakalgo/blob/main/Prak7Algo.ipynb\" target=\"_parent\"><img src=\"https://colab.research.google.com/assets/colab-badge.svg\" alt=\"Open In Colab\"/></a>"
      ]
    },
    {
      "cell_type": "code",
      "source": [
        "print(\"    @@      @@   @   @@@@@@   @@@@@@   @\")\n",
        "print(\"   @  @     @ @  @   @        @        @\")\n",
        "print(\"  @@@@@@    @  @ @   @  @@@   @  @@@   @\")\n",
        "print(\" @      @   @   @@   @    @   @    @   @\")\n",
        "print(\"@        @  @    @   @@@@@@   @@@@@@   @\")\n",
        "def hitung_faktorial(n):\n",
        "    if n < 0:\n",
        "        return \"Faktorial tidak dapat dihitung untuk bilangan negatif.\"\n",
        "    elif n == 0 or n == 1:\n",
        "        return 1\n",
        "    else:\n",
        "        hasil = 1\n",
        "        for i in range(2, n + 1):\n",
        "            hasil *= i\n",
        "        return hasil\n",
        "\n",
        "# Input dari pengguna\n",
        "bilangan = int(input(\"nilai: \"))\n",
        "\n",
        "# Memanggil fungsi hitung_faktorial dan mencetak hasilnya\n",
        "print(f\"Faktorial dari {bilangan} adalah {hitung_faktorial(bilangan)}\")"
      ],
      "metadata": {
        "colab": {
          "base_uri": "https://localhost:8080/"
        },
        "id": "k6nVfxSmzD74",
        "outputId": "a8a7afbd-bd8b-4411-feb7-753e7079e50c"
      },
      "execution_count": null,
      "outputs": [
        {
          "output_type": "stream",
          "name": "stdout",
          "text": [
            "    @@      @@   @   @@@@@@   @@@@@@   @\n",
            "   @  @     @ @  @   @        @        @\n",
            "  @@@@@@    @  @ @   @  @@@   @  @@@   @\n",
            " @      @   @   @@   @    @   @    @   @\n",
            "@        @  @    @   @@@@@@   @@@@@@   @\n",
            "nilai: 5\n",
            "Faktorial dari 5 adalah 120\n"
          ]
        }
      ]
    },
    {
      "cell_type": "code",
      "source": [
        "print(\"    @@      @@   @   @@@@@@   @@@@@@   @\")\n",
        "print(\"   @  @     @ @  @   @        @        @\")\n",
        "print(\"  @@@@@@    @  @ @   @  @@@   @  @@@   @\")\n",
        "print(\" @      @   @   @@   @    @   @    @   @\")\n",
        "print(\"@        @  @    @   @@@@@@   @@@@@@   @\")\n",
        "def hitung_vokal_konsonan(kalimat):\n",
        "    jumlah_vokal = 0\n",
        "    jumlah_konsonan = 0\n",
        "\n",
        "    huruf_vokal = \"aeiou\"\n",
        "\n",
        "    kalimat = kalimat.lower()\n",
        "\n",
        "    for huruf in kalimat:\n",
        "        if huruf.isalpha():\n",
        "            if huruf in huruf_vokal:\n",
        "                jumlah_vokal += 1\n",
        "            else:\n",
        "                jumlah_konsonan += 1\n",
        "\n",
        "    return jumlah_vokal, jumlah_konsonan\n",
        "\n",
        "kalimat_input = input(\"Masukkan sesuatu: \")\n",
        "\n",
        "vokal, konsonan = hitung_vokal_konsonan(kalimat_input)\n",
        "\n",
        "print(f\"Jumlah huruf vokal: {vokal}\")\n",
        "print(f\"Jumlah huruf konsonan: {konsonan}\")"
      ],
      "metadata": {
        "colab": {
          "base_uri": "https://localhost:8080/"
        },
        "id": "NFBg0uF5zM02",
        "outputId": "99aff2c4-f456-4bb3-d1d6-497ca8406dfd"
      },
      "execution_count": null,
      "outputs": [
        {
          "output_type": "stream",
          "name": "stdout",
          "text": [
            "    @@      @@   @   @@@@@@   @@@@@@   @\n",
            "   @  @     @ @  @   @        @        @\n",
            "  @@@@@@    @  @ @   @  @@@   @  @@@   @\n",
            " @      @   @   @@   @    @   @    @   @\n",
            "@        @  @    @   @@@@@@   @@@@@@   @\n",
            "Masukkan sesuatu: helloworld\n",
            "Jumlah huruf vokal: 3\n",
            "Jumlah huruf konsonan: 7\n"
          ]
        }
      ]
    },
    {
      "cell_type": "code",
      "execution_count": null,
      "metadata": {
        "colab": {
          "base_uri": "https://localhost:8080/"
        },
        "id": "ngG_E3vdwKhN",
        "outputId": "7299c013-d4d4-4df6-d7b5-d299c92e68be"
      },
      "outputs": [
        {
          "output_type": "stream",
          "name": "stdout",
          "text": [
            "    @@      @@   @   @@@@@@   @@@@@@   @\n",
            "   @  @     @ @  @   @        @        @\n",
            "  @@@@@@    @  @ @   @  @@@   @  @@@   @\n",
            " @      @   @   @@   @    @   @    @   @\n",
            "@        @  @    @   @@@@@@   @@@@@@   @\n",
            "Masukkan nilai: 7\n",
            "hasilnya adalah False\n"
          ]
        }
      ],
      "source": [
        "print(\"    @@      @@   @   @@@@@@   @@@@@@   @\")\n",
        "print(\"   @  @     @ @  @   @        @        @\")\n",
        "print(\"  @@@@@@    @  @ @   @  @@@   @  @@@   @\")\n",
        "print(\" @      @   @   @@   @    @   @    @   @\")\n",
        "print(\"@        @  @    @   @@@@@@   @@@@@@   @\")\n",
        "def kubik(angka):\n",
        "    return angka ** 3\n",
        "\n",
        "def cek_habis_dibagi_tiga(angka):\n",
        "    if angka % 3 == 0:\n",
        "        return kubik(angka)\n",
        "    else:\n",
        "        return \"False\"\n",
        "\n",
        "nilai = int(input(\"Masukkan nilai: \"))\n",
        "\n",
        "hasil = cek_habis_dibagi_tiga(nilai)\n",
        "print(\"hasilnya adalah\",hasil)"
      ]
    }
  ]
}