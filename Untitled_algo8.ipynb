{
  "nbformat": 4,
  "nbformat_minor": 0,
  "metadata": {
    "colab": {
      "provenance": [],
      "authorship_tag": "ABX9TyOd4PtU4AG1ct30VnBGJNvj",
      "include_colab_link": true
    },
    "kernelspec": {
      "name": "python3",
      "display_name": "Python 3"
    },
    "language_info": {
      "name": "python"
    }
  },
  "cells": [
    {
      "cell_type": "markdown",
      "metadata": {
        "id": "view-in-github",
        "colab_type": "text"
      },
      "source": [
        "<a href=\"https://colab.research.google.com/github/zulfaanggi/prakalgo/blob/main/Untitled_algo8.ipynb\" target=\"_parent\"><img src=\"https://colab.research.google.com/assets/colab-badge.svg\" alt=\"Open In Colab\"/></a>"
      ]
    },
    {
      "cell_type": "code",
      "source": [
        "print(\"    @@      @@   @   @@@@@@   @@@@@@   @\")\n",
        "print(\"   @  @     @ @  @   @        @        @\")\n",
        "print(\"  @@@@@@    @  @ @   @  @@@   @  @@@   @\")\n",
        "print(\" @      @   @   @@   @    @   @    @   @\")\n",
        "print(\"@        @  @    @   @@@@@@   @@@@@@   @\")\n",
        "\n",
        "\n",
        "def karakter_ganjil(input_string):\n",
        "    result = \"\"\n",
        "    for i in range(len(input_string)):\n",
        "        if i % 2 == 1:\n",
        "            result += input_string[i]\n",
        "    return result\n",
        "\n",
        "input_user = input(\"Masukkan sebuah kata: \")\n",
        "hasil = karakter_ganjil(input_user)\n",
        "print(\"Karakter index ganjil:\", hasil)\n"
      ],
      "metadata": {
        "colab": {
          "base_uri": "https://localhost:8080/"
        },
        "id": "lY-HLIAGV3OH",
        "outputId": "574fe27b-8723-4f4d-ee3f-f91a1e9e1c6d"
      },
      "execution_count": 25,
      "outputs": [
        {
          "output_type": "stream",
          "name": "stdout",
          "text": [
            "    @@      @@   @   @@@@@@   @@@@@@   @\n",
            "   @  @     @ @  @   @        @        @\n",
            "  @@@@@@    @  @ @   @  @@@   @  @@@   @\n",
            " @      @   @   @@   @    @   @    @   @\n",
            "@        @  @    @   @@@@@@   @@@@@@   @\n",
            "Masukkan sebuah kata: algoritmadasar\n",
            "Karakter index ganjil: loimdsr\n"
          ]
        }
      ]
    },
    {
      "cell_type": "code",
      "source": [
        "print(\"    @@      @@   @   @@@@@@   @@@@@@   @\")\n",
        "print(\"   @  @     @ @  @   @        @        @\")\n",
        "print(\"  @@@@@@    @  @ @   @  @@@   @  @@@   @\")\n",
        "print(\" @      @   @   @@   @    @   @    @   @\")\n",
        "print(\"@        @  @    @   @@@@@@   @@@@@@   @\")\n",
        "angka_pertama = int(input(\"Masukkan angka pertama: \"))\n",
        "angka_kedua = int(input(\"Masukkan angka kedua: \"))\n",
        "\n",
        "# Mengecek apakah angka_pertama lebih kecil dari angka_kedua\n",
        "if angka_pertama < angka_kedua:\n",
        "    jumlah_range = sum(range(angka_pertama, angka_kedua + 1))\n",
        "    print(\"Jumlah range adalah:\", jumlah_range)\n",
        "else:\n",
        "    print(\"Angka pertama harus lebih kecil dari angka kedua.\")"
      ],
      "metadata": {
        "colab": {
          "base_uri": "https://localhost:8080/"
        },
        "id": "wov3jGw-eTeo",
        "outputId": "06f64521-13c6-407d-ad92-36d3bfa5911e"
      },
      "execution_count": 1,
      "outputs": [
        {
          "output_type": "stream",
          "name": "stdout",
          "text": [
            "    @@      @@   @   @@@@@@   @@@@@@   @\n",
            "   @  @     @ @  @   @        @        @\n",
            "  @@@@@@    @  @ @   @  @@@   @  @@@   @\n",
            " @      @   @   @@   @    @   @    @   @\n",
            "@        @  @    @   @@@@@@   @@@@@@   @\n",
            "Masukkan angka pertama: 1\n",
            "Masukkan angka kedua: 9\n",
            "Jumlah range adalah: 45\n"
          ]
        }
      ]
    }
  ]
}