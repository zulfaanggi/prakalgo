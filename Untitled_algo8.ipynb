{
  "nbformat": 4,
  "nbformat_minor": 0,
  "metadata": {
    "colab": {
      "provenance": [],
      "authorship_tag": "ABX9TyNrP8jZAnXWuKI/cl3ynEYF",
      "include_colab_link": true
    },
    "kernelspec": {
      "name": "python3",
      "display_name": "Python 3"
    },
    "language_info": {
      "name": "python"
    }
  },
  "cells": [
    {
      "cell_type": "markdown",
      "metadata": {
        "id": "view-in-github",
        "colab_type": "text"
      },
      "source": [
        "<a href=\"https://colab.research.google.com/github/zulfaanggi/prakalgo/blob/main/Untitled_algo8.ipynb\" target=\"_parent\"><img src=\"https://colab.research.google.com/assets/colab-badge.svg\" alt=\"Open In Colab\"/></a>"
      ]
    },
    {
      "cell_type": "code",
      "source": [
        "print(\"    @@      @@   @   @@@@@@   @@@@@@   @\")\n",
        "print(\"   @  @     @ @  @   @        @        @\")\n",
        "print(\"  @@@@@@    @  @ @   @  @@@   @  @@@   @\")\n",
        "print(\" @      @   @   @@   @    @   @    @   @\")\n",
        "print(\"@        @  @    @   @@@@@@   @@@@@@   @\")\n",
        "\n",
        "\n",
        "def karakter_ganjil(input_string):\n",
        "    result = \"\"\n",
        "    for i in range(len(input_string)):\n",
        "        if i % 2 == 1:\n",
        "            result += input_string[i]\n",
        "    return result\n",
        "\n",
        "input_user = input(\"Masukkan sebuah kata: \")\n",
        "hasil = karakter_ganjil(input_user)\n",
        "print(\"Karakter index ganjil:\", hasil)\n"
      ],
      "metadata": {
        "colab": {
          "base_uri": "https://localhost:8080/"
        },
        "id": "lY-HLIAGV3OH",
        "outputId": "574fe27b-8723-4f4d-ee3f-f91a1e9e1c6d"
      },
      "execution_count": 25,
      "outputs": [
        {
          "output_type": "stream",
          "name": "stdout",
          "text": [
            "    @@      @@   @   @@@@@@   @@@@@@   @\n",
            "   @  @     @ @  @   @        @        @\n",
            "  @@@@@@    @  @ @   @  @@@   @  @@@   @\n",
            " @      @   @   @@   @    @   @    @   @\n",
            "@        @  @    @   @@@@@@   @@@@@@   @\n",
            "Masukkan sebuah kata: algoritmadasar\n",
            "Karakter index ganjil: loimdsr\n"
          ]
        }
      ]
    }
  ]
}