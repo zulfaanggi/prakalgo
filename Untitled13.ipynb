{
  "nbformat": 4,
  "nbformat_minor": 0,
  "metadata": {
    "colab": {
      "provenance": [],
      "authorship_tag": "ABX9TyPtqGEm87ErJ0t4yTMMxibW",
      "include_colab_link": true
    },
    "kernelspec": {
      "name": "python3",
      "display_name": "Python 3"
    },
    "language_info": {
      "name": "python"
    }
  },
  "cells": [
    {
      "cell_type": "markdown",
      "metadata": {
        "id": "view-in-github",
        "colab_type": "text"
      },
      "source": [
        "<a href=\"https://colab.research.google.com/github/zulfaanggi/prakalgo-7-/blob/main/Untitled13.ipynb\" target=\"_parent\"><img src=\"https://colab.research.google.com/assets/colab-badge.svg\" alt=\"Open In Colab\"/></a>"
      ]
    },
    {
      "cell_type": "code",
      "execution_count": 3,
      "metadata": {
        "colab": {
          "base_uri": "https://localhost:8080/"
        },
        "id": "ngG_E3vdwKhN",
        "outputId": "c5e0c066-ba87-4749-9f6f-a88cda25cb65"
      },
      "outputs": [
        {
          "output_type": "stream",
          "name": "stdout",
          "text": [
            "Masukkan nilai: 7\n",
            "hasilnya adalah False\n"
          ]
        }
      ],
      "source": [
        "def kubik(angka):\n",
        "    return angka ** 3\n",
        "\n",
        "def cek_habis_dibagi_tiga(angka):\n",
        "    if angka % 3 == 0:\n",
        "        return kubik(angka)\n",
        "    else:\n",
        "        return \"False\"\n",
        "\n",
        "nilai = int(input(\"Masukkan nilai: \"))\n",
        "\n",
        "hasil = cek_habis_dibagi_tiga(nilai)\n",
        "print(\"hasilnya adalah\",hasil)"
      ]
    }
  ]
}